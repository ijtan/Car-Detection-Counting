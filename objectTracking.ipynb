{
 "cells": [
  {
   "cell_type": "code",
   "execution_count": 2,
   "metadata": {},
   "outputs": [],
   "source": [
    "from pathlib import Path\n",
    "import cv2\n",
    "import numpy as np"
   ]
  },
  {
   "cell_type": "code",
   "execution_count": 3,
   "metadata": {},
   "outputs": [],
   "source": [
    "video_input_path = 'inputs/media/Clips/'\n",
    "videos = Path(video_input_path).rglob('*.mp4')\n",
    "videos = [str(v) for v in videos]\n",
    "# videos = [v for v in videos if 'msida' in v]\n",
    "videos = [v for v in videos if 'original' in v.lower()]\n"
   ]
  },
  {
   "cell_type": "code",
   "execution_count": null,
   "metadata": {},
   "outputs": [],
   "source": []
  },
  {
   "cell_type": "code",
   "execution_count": 5,
   "metadata": {},
   "outputs": [],
   "source": [
    "# cv2 car counter by tracking\n",
    "annotations_path = 'inputs/annotations/'\n",
    "annotations = Path(annotations_path).rglob('*.txt')\n",
    "annotations = [str(a) for a in annotations]\n",
    "annotations = [a for a in annotations if 'train' in a.lower()]\n"
   ]
  },
  {
   "cell_type": "code",
   "execution_count": 6,
   "metadata": {},
   "outputs": [],
   "source": [
    "# use annotations to do centroid tracking by splitting video in half\n",
    "def count(video_path, annotation_path):\n",
    "    video = cv2.VideoCapture(video_path)\n",
    "    annotations = open(annotation_path, 'r')\n",
    "    annotations = annotations.readlines()\n",
    "    annotations = [a.strip() for a in annotations]\n",
    "    # loop video frames\n",
    "    frame_count = 0\n",
    "    while True:\n",
    "        ret, frame = video.read()\n",
    "        if not ret:\n",
    "            break\n",
    "        frame_count += 1\n",
    "        if frame_count % 2 == 0:\n",
    "            continue\n",
    "        print(frame_count)\n",
    "        # loop annotation\n",
    "        for a in annotations:\n",
    "            a = a.split(' ')\n",
    "            a = [int(x) for x in a]\n",
    "            x, y, w, h = a[0], a[1], a[2], a[3]\n",
    "            x1, y1 = x, y\n",
    "            x2, y2 = x + w, y + h\n",
    "            cv2.rectangle(frame, (x1, y1), (x2, y2), (0, 255, 0), 2)\n",
    "            cv2.putText(frame, 'car', (x1, y1), cv2.FONT_HERSHEY_SIMPLEX, 1, (0, 255, 0), 2)\n",
    "            cv2.imshow('frame', frame)\n",
    "            cv2.waitKey(1)\n"
   ]
  },
  {
   "cell_type": "code",
   "execution_count": null,
   "metadata": {},
   "outputs": [],
   "source": []
  }
 ],
 "metadata": {
  "interpreter": {
   "hash": "bda7da3f1f17f53873a773ca7f2ed74b2eb6ac96c2af17f2f610b1874751e508"
  },
  "kernelspec": {
   "display_name": "Python 3.9.7 64-bit ('CV': conda)",
   "language": "python",
   "name": "python3"
  },
  "language_info": {
   "codemirror_mode": {
    "name": "ipython",
    "version": 3
   },
   "file_extension": ".py",
   "mimetype": "text/x-python",
   "name": "python",
   "nbconvert_exporter": "python",
   "pygments_lexer": "ipython3",
   "version": "3.9.7"
  },
  "orig_nbformat": 4
 },
 "nbformat": 4,
 "nbformat_minor": 2
}
