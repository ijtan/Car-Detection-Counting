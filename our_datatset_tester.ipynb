{
 "cells": [
  {
   "cell_type": "code",
   "execution_count": 1,
   "metadata": {},
   "outputs": [],
   "source": [
    "import os\n",
    "from pathlib import Path\n",
    "import cv2\n"
   ]
  },
  {
   "cell_type": "code",
   "execution_count": 2,
   "metadata": {},
   "outputs": [],
   "source": [
    "out_ds_path = 'custom_train/datasets/OurDataSet/'\n",
    "images = [str(s) for s in Path(out_ds_path).rglob('**/*.jpg')]\n"
   ]
  },
  {
   "cell_type": "code",
   "execution_count": 3,
   "metadata": {},
   "outputs": [],
   "source": [
    "classes = ['car', 'motorbike', 'truck', 'priority', 'bus']\n"
   ]
  },
  {
   "cell_type": "code",
   "execution_count": 4,
   "metadata": {},
   "outputs": [
    {
     "name": "stdout",
     "output_type": "stream",
     "text": [
      "Label dir:  custom_train\\datasets\\OurDataSet\\labels\\Night_1_Train\\692.txt\n",
      "Image:  custom_train\\datasets\\OurDataSet\\images\\Night_1_Train\\692.jpg\n",
      "CoordsAll:  ['0 0.541667 0.781901 0.464286 0.451823', '0 0.833759 0.413411 0.145408 0.261719']\n",
      "Coords:  895.00068 216.999552 1066.000488 417.99974399999996\n",
      "Image size:  (768, 1176, 3)\n"
     ]
    }
   ],
   "source": [
    "for img_ix, img in enumerate(images):\n",
    "    original_image = cv2.imread(img)\n",
    "    \n",
    "    label_dir = img.replace('.jpg', '.txt').replace('images', 'labels')\n",
    "\n",
    "    if os.path.exists(label_dir):\n",
    "        coords_all = open(label_dir, 'r').read().split('\\n')\n",
    "        for coords in coords_all:\n",
    "            coords = coords.split(' ')\n",
    "            class_id = coords[0]\n",
    "            class_name = classes[int(class_id)]\n",
    "\n",
    "            coords = [float(x) for x in coords[1:]]\n",
    "\n",
    "            image_x = original_image.shape[1]\n",
    "            image_y = original_image.shape[0]\n",
    "            coords[0] = coords[0] * image_x\n",
    "            coords[1] = coords[1] * image_y\n",
    "            coords[2] = coords[2] * image_x\n",
    "            coords[3] = coords[3] * image_y\n",
    "\n",
    "            # coords = x_mid, y_mid, w, h, convert them to x_min, y_min, x_max, y_max\n",
    "            coords = [coords[0] - coords[2]/2, coords[1] - coords[3]/2, coords[0] + coords[2]/2, coords[1] + coords[3]/2]\n",
    "\n",
    "            x, y, w, h = coords\n",
    "            \n",
    "\n",
    "            cv2.rectangle(original_image, (int(coords[0]), int(coords[1])), (int(coords[2]), int(coords[3])), (0, 255, 0), 2)\n",
    "            cv2.putText(original_image, class_name, (int(coords[0]), int(coords[1])), cv2.FONT_HERSHEY_SIMPLEX, 1, (0, 0, 255), 2)\n",
    "        cv2.imshow('image', original_image)\n",
    "        if cv2.waitKey(1) & 0xFF == ord('q'):\n",
    "            print('Label dir: ', label_dir)\n",
    "            print('Image: ', img)\n",
    "            print('CoordsAll: ', coords_all)\n",
    "            print('Coords: ', x, y, w, h)\n",
    "            print('Image size: ', original_image.shape)\n",
    "\n",
    "\n",
    "            break\n",
    "        continue\n",
    "    \n",
    "    print('Showing no labels')\n",
    "    cv2.imshow('image', original_image)\n",
    "    cv2.waitKey(0)\n",
    "    continue\n",
    "\n",
    "    \n",
    "cv2.destroyAllWindows()\n",
    "\n",
    "\n"
   ]
  },
  {
   "cell_type": "code",
   "execution_count": 5,
   "metadata": {},
   "outputs": [
    {
     "data": {
      "text/plain": [
       "['0 0.541667 0.781901 0.464286 0.451823',\n",
       " '0 0.833759 0.413411 0.145408 0.261719']"
      ]
     },
     "execution_count": 5,
     "metadata": {},
     "output_type": "execute_result"
    }
   ],
   "source": [
    "label_dir\n",
    "open(label_dir, 'r').read().split('\\n')\n"
   ]
  }
 ],
 "metadata": {
  "interpreter": {
   "hash": "bda7da3f1f17f53873a773ca7f2ed74b2eb6ac96c2af17f2f610b1874751e508"
  },
  "kernelspec": {
   "display_name": "Python 3.9.7 64-bit ('CV': conda)",
   "language": "python",
   "name": "python3"
  },
  "language_info": {
   "codemirror_mode": {
    "name": "ipython",
    "version": 3
   },
   "file_extension": ".py",
   "mimetype": "text/x-python",
   "name": "python",
   "nbconvert_exporter": "python",
   "pygments_lexer": "ipython3",
   "version": "3.9.7"
  },
  "orig_nbformat": 4
 },
 "nbformat": 4,
 "nbformat_minor": 2
}
